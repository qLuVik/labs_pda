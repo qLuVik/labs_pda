{
  "nbformat": 4,
  "nbformat_minor": 0,
  "metadata": {
    "colab": {
      "name": "Капранова_Практическая_на_лекции",
      "provenance": [],
      "collapsed_sections": [],
      "toc_visible": true,
      "authorship_tag": "ABX9TyMxtQbtVrC+EbGCBVi5Ds0F",
      "include_colab_link": true
    },
    "kernelspec": {
      "name": "python3",
      "display_name": "Python 3"
    },
    "language_info": {
      "name": "python"
    }
  },
  "cells": [
    {
      "cell_type": "markdown",
      "metadata": {
        "id": "view-in-github",
        "colab_type": "text"
      },
      "source": [
        "<a href=\"https://colab.research.google.com/github/qLuVik/labs_pda/blob/main/%D0%9A%D0%B0%D0%BF%D1%80%D0%B0%D0%BD%D0%BE%D0%B2%D0%B0_%D0%9F%D1%80%D0%B0%D0%BA%D1%82%D0%B8%D1%87%D0%B5%D1%81%D0%BA%D0%B0%D1%8F_%D0%BD%D0%B0_%D0%BB%D0%B5%D0%BA%D1%86%D0%B8%D0%B82.ipynb\" target=\"_parent\"><img src=\"https://colab.research.google.com/assets/colab-badge.svg\" alt=\"Open In Colab\"/></a>"
      ]
    },
    {
      "cell_type": "code",
      "execution_count": null,
      "metadata": {
        "id": "K_q3BaN84K0o"
      },
      "outputs": [],
      "source": [
        "import numpy as np"
      ]
    },
    {
      "cell_type": "markdown",
      "source": [
        "создание массива из списка"
      ],
      "metadata": {
        "id": "3nmPTpYk4OOS"
      }
    },
    {
      "cell_type": "code",
      "source": [
        "arr = np.array([1,2,3,4,5])\n",
        "print(arr)\n",
        "type(a)"
      ],
      "metadata": {
        "id": "d0FTCdhK4PhT"
      },
      "execution_count": null,
      "outputs": []
    },
    {
      "cell_type": "markdown",
      "source": [
        "Вычисление типа"
      ],
      "metadata": {
        "id": "KCovPGSPB_8T"
      }
    },
    {
      "cell_type": "code",
      "source": [
        "print(arr.dtype)"
      ],
      "metadata": {
        "colab": {
          "base_uri": "https://localhost:8080/"
        },
        "id": "gPolWylKCD9K",
        "outputId": "7819cf15-d48d-46fa-a4ef-28e774ae85e4"
      },
      "execution_count": null,
      "outputs": [
        {
          "output_type": "stream",
          "name": "stdout",
          "text": [
            "int64\n"
          ]
        }
      ]
    },
    {
      "cell_type": "code",
      "source": [
        "arr = np.array([1, 2, 3.14])\n",
        "print(arr.dtype)"
      ],
      "metadata": {
        "colab": {
          "base_uri": "https://localhost:8080/"
        },
        "id": "Ukm-t7HGCIoB",
        "outputId": "fae2bbdf-9b33-4fc5-965d-161eed5e5e71"
      },
      "execution_count": null,
      "outputs": [
        {
          "output_type": "stream",
          "name": "stdout",
          "text": [
            "float64\n"
          ]
        }
      ]
    },
    {
      "cell_type": "markdown",
      "source": [
        "форма массивов"
      ],
      "metadata": {
        "id": "yrs-2fmVCQNa"
      }
    },
    {
      "cell_type": "code",
      "source": [
        "arr = np.array([1, 2, 3])\n",
        "print(arr.shape)"
      ],
      "metadata": {
        "colab": {
          "base_uri": "https://localhost:8080/"
        },
        "id": "v5J62Kj5CRfh",
        "outputId": "83dd58d4-8a1a-480d-fec8-bd84130e42f3"
      },
      "execution_count": null,
      "outputs": [
        {
          "output_type": "stream",
          "name": "stdout",
          "text": [
            "(3,)\n"
          ]
        }
      ]
    },
    {
      "cell_type": "code",
      "source": [
        "b = np.array([[1.5, 2, 3], [4, 5, 6]], dtype=np.complex)\n",
        "b"
      ],
      "metadata": {
        "colab": {
          "base_uri": "https://localhost:8080/"
        },
        "id": "eFfQr1TaCXj9",
        "outputId": "cd07cf5b-40ba-41d8-8b03-178251e0c5f9"
      },
      "execution_count": null,
      "outputs": [
        {
          "output_type": "stream",
          "name": "stderr",
          "text": [
            "/usr/local/lib/python3.7/dist-packages/ipykernel_launcher.py:1: DeprecationWarning: `np.complex` is a deprecated alias for the builtin `complex`. To silence this warning, use `complex` by itself. Doing this will not modify any behavior and is safe. If you specifically wanted the numpy scalar type, use `np.complex128` here.\n",
            "Deprecated in NumPy 1.20; for more details and guidance: https://numpy.org/devdocs/release/1.20.0-notes.html#deprecations\n",
            "  \"\"\"Entry point for launching an IPython kernel.\n"
          ]
        },
        {
          "output_type": "execute_result",
          "data": {
            "text/plain": [
              "array([[1.5+0.j, 2. +0.j, 3. +0.j],\n",
              "       [4. +0.j, 5. +0.j, 6. +0.j]])"
            ]
          },
          "metadata": {},
          "execution_count": 6
        }
      ]
    },
    {
      "cell_type": "markdown",
      "source": [
        "Функция zeros() создает массив из нулей, а функция ones() — массив из единиц. Обе функции принимают кортеж с размерами, и аргумент dtype:"
      ],
      "metadata": {
        "id": "T8XqZOzWCbbP"
      }
    },
    {
      "cell_type": "code",
      "source": [
        "np.zeros((3, 5))\n",
        "np.ones((2, 2, 2))"
      ],
      "metadata": {
        "colab": {
          "base_uri": "https://localhost:8080/"
        },
        "id": "v7FcVEl5CeEZ",
        "outputId": "388fc619-c2a9-4040-bff7-dde483891b51"
      },
      "execution_count": null,
      "outputs": [
        {
          "output_type": "execute_result",
          "data": {
            "text/plain": [
              "array([[[1., 1.],\n",
              "        [1., 1.]],\n",
              "\n",
              "       [[1., 1.],\n",
              "        [1., 1.]]])"
            ]
          },
          "metadata": {},
          "execution_count": 7
        }
      ]
    },
    {
      "cell_type": "markdown",
      "source": [
        "единичная матрица (двумерный массив)"
      ],
      "metadata": {
        "id": "IsPyEwFk5EVw"
      }
    },
    {
      "cell_type": "code",
      "source": [
        "np.eye(5)"
      ],
      "metadata": {
        "colab": {
          "base_uri": "https://localhost:8080/"
        },
        "id": "ac9H3Tli5En3",
        "outputId": "6daeaf35-6467-4893-ee7f-f0e2a3d6e784"
      },
      "execution_count": null,
      "outputs": [
        {
          "output_type": "execute_result",
          "data": {
            "text/plain": [
              "array([[1., 0., 0., 0., 0.],\n",
              "       [0., 1., 0., 0., 0.],\n",
              "       [0., 0., 1., 0., 0.],\n",
              "       [0., 0., 0., 1., 0.],\n",
              "       [0., 0., 0., 0., 1.]])"
            ]
          },
          "metadata": {},
          "execution_count": 8
        }
      ]
    },
    {
      "cell_type": "markdown",
      "source": [
        "Функция empty() создает массив без его заполнения. Исходное содержимое случайно и зависит от состояния памяти на момент создания массива (то есть от того мусора, что в ней хранится):"
      ],
      "metadata": {
        "id": "ZOtEam1AC5yO"
      }
    },
    {
      "cell_type": "code",
      "source": [
        "np.empty((3, 3))\n",
        "np.empty((3, 3))"
      ],
      "metadata": {
        "colab": {
          "base_uri": "https://localhost:8080/"
        },
        "id": "MHsQBjew5aMu",
        "outputId": "6d763c26-7089-4507-c95c-8c239fb7a001"
      },
      "execution_count": null,
      "outputs": [
        {
          "output_type": "execute_result",
          "data": {
            "text/plain": [
              "array([[4.66652352e-310, 3.60739284e-313, 1.38338381e-322],\n",
              "       [4.66652352e-310, 0.00000000e+000, 0.00000000e+000],\n",
              "       [4.94065646e-323, 0.00000000e+000, 0.00000000e+000]])"
            ]
          },
          "metadata": {},
          "execution_count": 9
        }
      ]
    },
    {
      "cell_type": "code",
      "source": [
        "np.linspace(0, 2, 9)"
      ],
      "metadata": {
        "colab": {
          "base_uri": "https://localhost:8080/"
        },
        "id": "L96ybM6WC92C",
        "outputId": "c30906e9-cf2d-4b3f-ae2a-3b42778ea1ab"
      },
      "execution_count": null,
      "outputs": [
        {
          "output_type": "execute_result",
          "data": {
            "text/plain": [
              "array([0.  , 0.25, 0.5 , 0.75, 1.  , 1.25, 1.5 , 1.75, 2.  ])"
            ]
          },
          "metadata": {},
          "execution_count": 10
        }
      ]
    },
    {
      "cell_type": "markdown",
      "source": [
        "fromfunction(): применяет функцию ко всем комбинациям индексов"
      ],
      "metadata": {
        "id": "qKBncrz3DB7O"
      }
    },
    {
      "cell_type": "code",
      "source": [
        "def f1(i, j):\n",
        "    return 3 * i + j\n",
        "\n",
        "print(np.fromfunction(f1, (3, 4)))\n",
        "print(np.fromfunction(f1, (3, 3)))"
      ],
      "metadata": {
        "colab": {
          "base_uri": "https://localhost:8080/"
        },
        "id": "CxmwwTt0DAku",
        "outputId": "b11363cd-3944-4ad6-9875-e00ae64e15e2"
      },
      "execution_count": null,
      "outputs": [
        {
          "output_type": "stream",
          "name": "stdout",
          "text": [
            "[[0. 1. 2. 3.]\n",
            " [3. 4. 5. 6.]\n",
            " [6. 7. 8. 9.]]\n",
            "[[0. 1. 2.]\n",
            " [3. 4. 5.]\n",
            " [6. 7. 8.]]\n"
          ]
        }
      ]
    },
    {
      "cell_type": "code",
      "source": [
        "a = np.array([[1, 2], [3, 4], [5, 6]])\n",
        "print(a.shape)"
      ],
      "metadata": {
        "colab": {
          "base_uri": "https://localhost:8080/"
        },
        "id": "hdWbN7rFDHoX",
        "outputId": "c495bda1-3264-45dd-e4df-7de45362988a"
      },
      "execution_count": null,
      "outputs": [
        {
          "output_type": "stream",
          "name": "stdout",
          "text": [
            "(3, 2)\n"
          ]
        }
      ]
    },
    {
      "cell_type": "code",
      "source": [
        "a = np.array([[1, 2], [3, 4], [5, 6]])\n",
        "print(a.size)"
      ],
      "metadata": {
        "colab": {
          "base_uri": "https://localhost:8080/"
        },
        "id": "MomkEje-DKST",
        "outputId": "7540e4f2-fd19-4921-abb3-cf26d312668d"
      },
      "execution_count": null,
      "outputs": [
        {
          "output_type": "stream",
          "name": "stdout",
          "text": [
            "6\n"
          ]
        }
      ]
    },
    {
      "cell_type": "code",
      "source": [
        "print(np.arange(0,3000,1))"
      ],
      "metadata": {
        "colab": {
          "base_uri": "https://localhost:8080/"
        },
        "id": "4qjE2o3Z5fGS",
        "outputId": "b54d200d-407a-43e1-b335-f21b104dfd6c"
      },
      "execution_count": null,
      "outputs": [
        {
          "output_type": "stream",
          "name": "stdout",
          "text": [
            "[   0    1    2 ... 2997 2998 2999]\n"
          ]
        }
      ]
    },
    {
      "cell_type": "code",
      "source": [
        "import sys\n",
        "import numpy as np\n",
        "\n",
        "a = np.array([20, 30, 40, 50])\n",
        "b = np.arange(4)\n",
        "print(a + b)\n",
        "print(a - b)\n",
        "print(a * b)\n",
        "print(a / b)  \n",
        "print(a ** b)\n",
        "print(a % b) "
      ],
      "metadata": {
        "colab": {
          "base_uri": "https://localhost:8080/"
        },
        "id": "CabjBYP_DPBy",
        "outputId": "ab5d75fb-a3d9-46c0-88f6-8abdfa5b49e0"
      },
      "execution_count": null,
      "outputs": [
        {
          "output_type": "stream",
          "name": "stdout",
          "text": [
            "[20 31 42 53]\n",
            "[20 29 38 47]\n",
            "[  0  30  80 150]\n",
            "[        inf 30.         20.         16.66666667]\n",
            "[     1     30   1600 125000]\n",
            "[0 0 0 2]\n"
          ]
        },
        {
          "output_type": "stream",
          "name": "stderr",
          "text": [
            "/usr/local/lib/python3.7/dist-packages/ipykernel_launcher.py:9: RuntimeWarning: divide by zero encountered in true_divide\n",
            "  if __name__ == '__main__':\n",
            "/usr/local/lib/python3.7/dist-packages/ipykernel_launcher.py:11: RuntimeWarning: divide by zero encountered in remainder\n",
            "  # This is added back by InteractiveShellApp.init_path()\n"
          ]
        }
      ]
    },
    {
      "cell_type": "code",
      "source": [
        "print(a + 1)\n",
        "print(a ** 3)\n",
        "print(a < 35)"
      ],
      "metadata": {
        "colab": {
          "base_uri": "https://localhost:8080/"
        },
        "id": "G8az40VxDVX-",
        "outputId": "08f0f8c2-ab76-4ddd-d103-1f59f844280d"
      },
      "execution_count": null,
      "outputs": [
        {
          "output_type": "stream",
          "name": "stdout",
          "text": [
            "[21 31 41 51]\n",
            "[  8000  27000  64000 125000]\n",
            "[ True  True False False]\n"
          ]
        }
      ]
    },
    {
      "cell_type": "code",
      "source": [
        "print(np.cos(a))\n",
        "print(np.arctan(a))\n",
        "print(np.sinh(a))"
      ],
      "metadata": {
        "colab": {
          "base_uri": "https://localhost:8080/"
        },
        "id": "Z6clW4zsDYVd",
        "outputId": "b45d73eb-a1b5-4189-a8d1-fe4c2bb71b4d"
      },
      "execution_count": null,
      "outputs": [
        {
          "output_type": "stream",
          "name": "stdout",
          "text": [
            "[ 0.40808206  0.15425145 -0.66693806  0.96496603]\n",
            "[1.52083793 1.53747533 1.54580153 1.55079899]\n",
            "[2.42582598e+08 5.34323729e+12 1.17692633e+17 2.59235276e+21]\n"
          ]
        }
      ]
    },
    {
      "cell_type": "code",
      "source": [
        "a = np.array([[1,2,3],[4,5,6]])\n",
        "print(np.sum(a))\n",
        "print(a.sum())\n",
        "print(a.min())\n",
        "print(a.max())"
      ],
      "metadata": {
        "colab": {
          "base_uri": "https://localhost:8080/"
        },
        "id": "Tv5HE7ZU7Fe3",
        "outputId": "da0abc4f-7248-4b7f-9bdc-bb9accbae710"
      },
      "execution_count": null,
      "outputs": [
        {
          "output_type": "stream",
          "name": "stdout",
          "text": [
            "21\n",
            "21\n",
            "1\n",
            "6\n"
          ]
        }
      ]
    },
    {
      "cell_type": "code",
      "source": [
        "a = np.arange(10) ** 3\n",
        "print(a)\n",
        "print(a[1])\n",
        "print(a[3:7])\n",
        "a[3:7] = 8\n",
        "print(a)\n",
        "print(a[::-1])\n",
        "\n",
        "\n",
        "for i in a:\n",
        "    print(i ** (1/3))"
      ],
      "metadata": {
        "id": "Bn5dLHBJDcfb"
      },
      "execution_count": null,
      "outputs": []
    },
    {
      "cell_type": "code",
      "source": [
        "b = np.array([[  0, 1, 2, 3],\n",
        "              [10, 11, 12, 13],\n",
        "              [20, 21, 22, 23],\n",
        "              [30, 31, 32, 33],\n",
        "              [40, 41, 42, 43]])\n",
        "\n",
        "print(b[2,3]) \n",
        "print(b[(2,3)])\n",
        "print(b[2][3]) \n",
        "print(b[:,2]) \n",
        "print(b[:2]) \n",
        "print(b[1:3, : : ])  "
      ],
      "metadata": {
        "colab": {
          "base_uri": "https://localhost:8080/"
        },
        "id": "OojFPV7dDemV",
        "outputId": "ce410f90-a5ee-4c66-dae1-dc7dfed9277b"
      },
      "execution_count": null,
      "outputs": [
        {
          "output_type": "stream",
          "name": "stdout",
          "text": [
            "23\n",
            "23\n",
            "23\n",
            "[ 2 12 22 32 42]\n",
            "[[ 0  1  2  3]\n",
            " [10 11 12 13]]\n",
            "[[10 11 12 13]\n",
            " [20 21 22 23]]\n"
          ]
        }
      ]
    },
    {
      "cell_type": "markdown",
      "source": [
        "у массива есть форма (shape), определяемая числом элементов вдоль каждой оси:"
      ],
      "metadata": {
        "id": "tJV0Oc-MDmX6"
      }
    },
    {
      "cell_type": "code",
      "source": [
        "a\n",
        "a.shape"
      ],
      "metadata": {
        "colab": {
          "base_uri": "https://localhost:8080/"
        },
        "id": "RHj41-68Doi0",
        "outputId": "d2582d63-274c-42d8-c875-d6a242db0bcc"
      },
      "execution_count": null,
      "outputs": [
        {
          "output_type": "execute_result",
          "data": {
            "text/plain": [
              "(4,)"
            ]
          },
          "metadata": {},
          "execution_count": 23
        }
      ]
    },
    {
      "cell_type": "markdown",
      "source": [
        "Форма массива может быть изменена с помощью различных команд:"
      ],
      "metadata": {
        "id": "tnYmUK99Dv33"
      }
    },
    {
      "cell_type": "code",
      "source": [
        "a = np.array(([[0, 1, 2], [10, 12, 13]], [[100, 101, 102], [110, 112, 113]]))\n",
        "print(a.ravel())  # Делает массив плоским\n",
        "a.shape = (6, 2)  # Изменение формы\n",
        "print(a)\n",
        "print(a.transpose())  # Транспонирование\n",
        "print(a.reshape((3, 4)))  # Изменение формы"
      ],
      "metadata": {
        "colab": {
          "base_uri": "https://localhost:8080/"
        },
        "id": "oRexxuyNDxzB",
        "outputId": "b84ebffb-b1cb-4a6f-ff10-18a0f62c1e58"
      },
      "execution_count": null,
      "outputs": [
        {
          "output_type": "stream",
          "name": "stdout",
          "text": [
            "[  0   1   2  10  12  13 100 101 102 110 112 113]\n",
            "[[  0   1]\n",
            " [  2  10]\n",
            " [ 12  13]\n",
            " [100 101]\n",
            " [102 110]\n",
            " [112 113]]\n",
            "[[  0   2  12 100 102 112]\n",
            " [  1  10  13 101 110 113]]\n",
            "[[  0   1   2  10]\n",
            " [ 12  13 100 101]\n",
            " [102 110 112 113]]\n"
          ]
        }
      ]
    },
    {
      "cell_type": "markdown",
      "source": [
        "hstack() объединяет массивы по первым осям, vstack() — по последним:"
      ],
      "metadata": {
        "id": "IEeMP9ziD3sv"
      }
    },
    {
      "cell_type": "code",
      "source": [
        "a = np.array([[1, 2], [3, 4]])\n",
        "b = np.array([[5, 6], [7, 8]])\n",
        "print(np.vstack((a, b)))\n",
        "print(np.hstack((a, b)))"
      ],
      "metadata": {
        "colab": {
          "base_uri": "https://localhost:8080/"
        },
        "id": "igmQdxkhD6Lq",
        "outputId": "86c4f5c5-48a6-4525-e623-eb723dbc683d"
      },
      "execution_count": null,
      "outputs": [
        {
          "output_type": "stream",
          "name": "stdout",
          "text": [
            "[[1 2]\n",
            " [3 4]\n",
            " [5 6]\n",
            " [7 8]]\n",
            "[[1 2 5 6]\n",
            " [3 4 7 8]]\n"
          ]
        }
      ]
    },
    {
      "cell_type": "markdown",
      "source": [
        "Функция column_stack() объединяет одномерные массивы в качестве столбцов двумерного массива:"
      ],
      "metadata": {
        "id": "B3hxa_LWD-T5"
      }
    },
    {
      "cell_type": "code",
      "source": [
        "np.column_stack((a, b))"
      ],
      "metadata": {
        "colab": {
          "base_uri": "https://localhost:8080/"
        },
        "id": "FQ7WezaMD-5S",
        "outputId": "d2b4783d-22a8-42cf-b604-94d779e2218b"
      },
      "execution_count": null,
      "outputs": [
        {
          "output_type": "execute_result",
          "data": {
            "text/plain": [
              "array([[1, 2, 5, 6],\n",
              "       [3, 4, 7, 8]])"
            ]
          },
          "metadata": {},
          "execution_count": 26
        }
      ]
    },
    {
      "cell_type": "markdown",
      "source": [
        "Аналогично для строк имеется функция row_stack()"
      ],
      "metadata": {
        "id": "G88IBb8fEFBU"
      }
    },
    {
      "cell_type": "code",
      "source": [
        "np.row_stack((a, b))"
      ],
      "metadata": {
        "id": "edlKpaE4EFl9",
        "outputId": "ada27720-f902-4d2f-d13a-d590be622922",
        "colab": {
          "base_uri": "https://localhost:8080/"
        }
      },
      "execution_count": null,
      "outputs": [
        {
          "output_type": "execute_result",
          "data": {
            "text/plain": [
              "array([[1, 2],\n",
              "       [3, 4],\n",
              "       [5, 6],\n",
              "       [7, 8]])"
            ]
          },
          "metadata": {},
          "execution_count": 27
        }
      ]
    },
    {
      "cell_type": "markdown",
      "source": [
        "Разбиение массива"
      ],
      "metadata": {
        "id": "KLhviwYEDXQy"
      }
    },
    {
      "cell_type": "code",
      "source": [
        "import numpy as np\n",
        "import random\n",
        "np.array([random.random() for i in range(10)])"
      ],
      "metadata": {
        "colab": {
          "base_uri": "https://localhost:8080/"
        },
        "id": "5iNlhxNNDWRA",
        "outputId": "3b5f6936-8e4f-48fd-bc93-a838e65927ed"
      },
      "execution_count": null,
      "outputs": [
        {
          "output_type": "execute_result",
          "data": {
            "text/plain": [
              "array([0.81090758, 0.51483618, 0.91839707, 0.05667428, 0.09251946,\n",
              "       0.9635855 , 0.67488232, 0.31343958, 0.68298334, 0.98283773])"
            ]
          },
          "metadata": {},
          "execution_count": 28
        }
      ]
    },
    {
      "cell_type": "code",
      "source": [
        "import numpy as np  \n",
        "np.random\n",
        "import numpy.random as rand  \n",
        "rand"
      ],
      "metadata": {
        "colab": {
          "base_uri": "https://localhost:8080/"
        },
        "id": "Aw_l2xuKDbZd",
        "outputId": "d916e122-f48b-45d6-a81b-8f9f3a019cfd"
      },
      "execution_count": null,
      "outputs": [
        {
          "output_type": "execute_result",
          "data": {
            "text/plain": [
              "<module 'numpy.random' from '/usr/local/lib/python3.7/dist-packages/numpy/random/__init__.py'>"
            ]
          },
          "metadata": {},
          "execution_count": 30
        }
      ]
    },
    {
      "cell_type": "code",
      "source": [
        "print(np.random.sample())\n",
        "print(np.random.sample(3))\n",
        "print(np.random.sample((2, 3)))"
      ],
      "metadata": {
        "colab": {
          "base_uri": "https://localhost:8080/"
        },
        "id": "u7Nv3ZzfDgBW",
        "outputId": "b1f80d43-4e49-4b03-cb87-c2c52cd1ce84"
      },
      "execution_count": null,
      "outputs": [
        {
          "output_type": "stream",
          "name": "stdout",
          "text": [
            "0.3071226720390653\n",
            "[0.36709182 0.66385995 0.9779709 ]\n",
            "[[0.83057832 0.50129848 0.59046056]\n",
            " [0.936954   0.3350889  0.87782876]]\n"
          ]
        }
      ]
    },
    {
      "cell_type": "code",
      "source": [
        "print(np.random.randint(0, 3, 10))\n",
        "print(np.random.random_integers(0, 3, 10))\n",
        "print(np.random.randint(0, 3, (2, 10)))"
      ],
      "metadata": {
        "colab": {
          "base_uri": "https://localhost:8080/"
        },
        "id": "kRZr50i1DkEH",
        "outputId": "549f6146-cddf-4bd2-ce2d-0b495106f5a9"
      },
      "execution_count": null,
      "outputs": [
        {
          "output_type": "stream",
          "name": "stdout",
          "text": [
            "[2 0 1 1 0 0 0 1 2 2]\n",
            "[1 1 3 2 0 1 3 0 1 0]\n",
            "[[1 2 0 0 1 0 1 1 1 2]\n",
            " [2 1 0 0 1 0 0 2 2 0]]\n"
          ]
        },
        {
          "output_type": "stream",
          "name": "stderr",
          "text": [
            "/usr/local/lib/python3.7/dist-packages/ipykernel_launcher.py:2: DeprecationWarning: This function is deprecated. Please call randint(0, 3 + 1) instead\n",
            "  \n"
          ]
        }
      ]
    },
    {
      "cell_type": "markdown",
      "source": [
        "# Новый раздел"
      ],
      "metadata": {
        "id": "HTz0sj3wDx1n"
      }
    },
    {
      "cell_type": "code",
      "source": [
        "import timeit \n",
        "start_time = timeit.default_timer()\n",
        "function_1()\n",
        "time_1 = timeit.default_timer() - start_time\n",
        "start_time = timeit.default_timer()\n",
        "function_2()\n",
        "time_2 = timeit.default_timer() - start_time\n",
        "print('Function 1 took', time_1)\n",
        "print('Function 2 took', time_2)"
      ],
      "metadata": {
        "id": "5yL2hEPADyfB"
      },
      "execution_count": null,
      "outputs": []
    },
    {
      "cell_type": "code",
      "source": [
        "import timeit \n",
        "import numpy as np\n",
        "\n",
        "def time_range(size): \n",
        "  for i in range(size): \n",
        "    pass \n",
        "\n",
        "def time_arange(size):\n",
        "   np.arange(size)\n",
        "\n",
        "if __name__ == '__main__': \n",
        "     \n",
        "\n",
        "    start_time = timeit.default_timer();\n",
        "    time_range(1000) \n",
        "    range_time_1 = timeit.default_timer() - start_time \n",
        "\n",
        "    start_time = timeit.default_timer(); \n",
        "    time_arange(1000) \n",
        "    arange_time_1 = timeit.default_timer() - start_time \n",
        "\n",
        "    start_time = timeit.default_timer(); \n",
        "    time_range(1000000000) \n",
        "    range_time_2 = timeit.default_timer() - start_time \n",
        "\n",
        "    start_time = timeit.default_timer(); \n",
        "    time_arange(1000000000) \n",
        "    arange_time_2 = timeit.default_timer() - start_time "
      ],
      "metadata": {
        "id": "mfF3CJzmD2HI"
      },
      "execution_count": null,
      "outputs": []
    },
    {
      "cell_type": "code",
      "source": [
        "print('Array size: 1000') \n",
        "\n",
        "print(f'size 1000: range() время {range_time_1}') \n",
        "print(f'size 1000: arange() время {arange_time_1}') \n",
        "\n",
        "print('Array size: 1000000') \n",
        "print(f'size 1000000: range() время {range_time_2}') \n",
        "print(f'size 1000000: arange() время {arange_time_2}')"
      ],
      "metadata": {
        "colab": {
          "base_uri": "https://localhost:8080/"
        },
        "id": "vv3ogz5qD8kL",
        "outputId": "3e2e246c-4673-4e1d-b051-9b78b25d4ec6"
      },
      "execution_count": null,
      "outputs": [
        {
          "output_type": "stream",
          "name": "stdout",
          "text": [
            "Array size: 1000\n",
            "size 1000: range() время 2.695599999924525e-05\n",
            "size 1000: arange() время 1.918399999567555e-05\n",
            "Array size: 1000000\n",
            "size 1000000: range() время 24.376710984\n",
            "size 1000000: arange() время 0.8506327519999957\n"
          ]
        }
      ]
    }
  ]
}