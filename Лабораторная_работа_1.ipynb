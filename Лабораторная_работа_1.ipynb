{
  "nbformat": 4,
  "nbformat_minor": 0,
  "metadata": {
    "colab": {
      "name": "Лабораторная работа 1",
      "provenance": [],
      "collapsed_sections": [],
      "authorship_tag": "ABX9TyPFLenKLZLnxsWnLD/m/jmI",
      "include_colab_link": true
    },
    "kernelspec": {
      "name": "python3",
      "display_name": "Python 3"
    },
    "language_info": {
      "name": "python"
    }
  },
  "cells": [
    {
      "cell_type": "markdown",
      "metadata": {
        "id": "view-in-github",
        "colab_type": "text"
      },
      "source": [
        "<a href=\"https://colab.research.google.com/github/qLuVik/labs_pda/blob/main/%D0%9B%D0%B0%D0%B1%D0%BE%D1%80%D0%B0%D1%82%D0%BE%D1%80%D0%BD%D0%B0%D1%8F_%D1%80%D0%B0%D0%B1%D0%BE%D1%82%D0%B0_1.ipynb\" target=\"_parent\"><img src=\"https://colab.research.google.com/assets/colab-badge.svg\" alt=\"Open In Colab\"/></a>"
      ]
    },
    {
      "cell_type": "code",
      "execution_count": 3,
      "metadata": {
        "id": "VOAXlQcXC-o9"
      },
      "outputs": [],
      "source": [
        "import numpy as np"
      ]
    },
    {
      "cell_type": "code",
      "source": [
        "#1.1\n",
        "n = int(input())\n",
        "Z = np.zeros(n)\n",
        "print(Z)"
      ],
      "metadata": {
        "colab": {
          "base_uri": "https://localhost:8080/"
        },
        "id": "jiIC0YtZDKYL",
        "outputId": "5a76dcad-468c-4afc-a427-6097d6b1889d"
      },
      "execution_count": null,
      "outputs": [
        {
          "output_type": "stream",
          "name": "stdout",
          "text": [
            "5\n",
            "[0. 0. 0. 0. 0.]\n"
          ]
        }
      ]
    },
    {
      "cell_type": "code",
      "source": [
        "#1.2\n",
        "print(Z.nbytes)"
      ],
      "metadata": {
        "colab": {
          "base_uri": "https://localhost:8080/"
        },
        "id": "R3XPP573D_Rw",
        "outputId": "731d937d-2bc3-43c9-8713-72b504032c76"
      },
      "execution_count": null,
      "outputs": [
        {
          "output_type": "stream",
          "name": "stdout",
          "text": [
            "40\n"
          ]
        }
      ]
    },
    {
      "cell_type": "code",
      "source": [
        "#1.3\n",
        "n = int(input())\n",
        "x = int(input())\n",
        "Z = np.zeros(n)\n",
        "Z[x] = 1"
      ],
      "metadata": {
        "id": "ehlpbd96H5kb",
        "colab": {
          "base_uri": "https://localhost:8080/"
        },
        "outputId": "4fa394d5-17b0-4c22-dec4-55e57b196703"
      },
      "execution_count": null,
      "outputs": [
        {
          "name": "stdout",
          "output_type": "stream",
          "text": [
            "10\n",
            "4\n"
          ]
        }
      ]
    },
    {
      "cell_type": "code",
      "source": [
        "#1.4\n",
        "n = int(input())\n",
        "m = int(input())\n",
        "Z = np.arange(n,m+1)\n",
        "#print(Z)"
      ],
      "metadata": {
        "colab": {
          "base_uri": "https://localhost:8080/"
        },
        "id": "kuIHYghhK3sy",
        "outputId": "b36fa720-a7e4-4a63-9e6a-9a71612b722c"
      },
      "execution_count": null,
      "outputs": [
        {
          "name": "stdout",
          "output_type": "stream",
          "text": [
            "10\n",
            "50\n"
          ]
        }
      ]
    },
    {
      "cell_type": "code",
      "source": [
        "#1.5\n",
        "Z = Z[::-1]\n",
        "#print(Z)"
      ],
      "metadata": {
        "id": "KcIgh-JcONxI"
      },
      "execution_count": null,
      "outputs": []
    },
    {
      "cell_type": "code",
      "source": [
        "#1.6\n",
        "n = int(input())\n",
        "m,k = map(int,input().split())\n",
        "\n",
        "Z = np.arange(0,n).reshape(m,k)\n",
        "#print(Z)"
      ],
      "metadata": {
        "colab": {
          "base_uri": "https://localhost:8080/"
        },
        "id": "CrzXCPCNOyMN",
        "outputId": "49713b33-98f4-423c-d827-4824b2c1637d"
      },
      "execution_count": null,
      "outputs": [
        {
          "name": "stdout",
          "output_type": "stream",
          "text": [
            "6\n",
            "2 3\n"
          ]
        }
      ]
    },
    {
      "cell_type": "code",
      "source": [
        "#1.7\n",
        "NonZerros = np.nonzero(Z)\n",
        "#print(NonZerros)"
      ],
      "metadata": {
        "id": "4EzLTmHJri68"
      },
      "execution_count": null,
      "outputs": []
    },
    {
      "cell_type": "code",
      "source": [
        "#1.8\n",
        "n = int(input())\n",
        "Z = np.eye(n)\n",
        "#print(Z)"
      ],
      "metadata": {
        "colab": {
          "base_uri": "https://localhost:8080/"
        },
        "id": "YIXuVUJssQtb",
        "outputId": "b15e1783-963a-4529-d0fd-d1bb0e9cd176"
      },
      "execution_count": null,
      "outputs": [
        {
          "name": "stdout",
          "output_type": "stream",
          "text": [
            "3\n"
          ]
        }
      ]
    },
    {
      "cell_type": "code",
      "source": [
        "#1.9\n",
        "n,m,l = map(int,input().split())\n",
        "np.random.seed(42)\n",
        "Z = np.random.random((n,m,l))\n",
        "#print(Z)"
      ],
      "metadata": {
        "colab": {
          "base_uri": "https://localhost:8080/"
        },
        "id": "QhesRvi7tDb1",
        "outputId": "c8a4575c-e992-4cd4-a07c-bc1948b20f78"
      },
      "execution_count": null,
      "outputs": [
        {
          "name": "stdout",
          "output_type": "stream",
          "text": [
            "2 2 2\n"
          ]
        }
      ]
    },
    {
      "cell_type": "code",
      "source": [
        "#1.10\n",
        "n,m = map(int,input().split())\n",
        "np.random.seed(42)\n",
        "Z = np.random.random((n,m))\n",
        "Zmin, Zmax = Z.min(), Z.max()\n",
        "print(Zmin, Zmax)"
      ],
      "metadata": {
        "colab": {
          "base_uri": "https://localhost:8080/"
        },
        "id": "IwUadZdEuXt-",
        "outputId": "904f548d-9052-4039-a60f-d8ecb0ddc500"
      },
      "execution_count": null,
      "outputs": [
        {
          "output_type": "stream",
          "name": "stdout",
          "text": [
            "10 10\n",
            "0.005522117123602399 0.9868869366005173\n"
          ]
        }
      ]
    },
    {
      "cell_type": "code",
      "source": [
        "#1.11\n",
        "n,m = map(int,input().split())\n",
        "np.random.seed(42)\n",
        "Z = np.random.random((n,m))\n",
        "d = Z.mean()\n",
        "print(d)"
      ],
      "metadata": {
        "colab": {
          "base_uri": "https://localhost:8080/"
        },
        "id": "0272_N3RgZie",
        "outputId": "42e9099d-5b0f-423b-d4de-88e44b29369e"
      },
      "execution_count": null,
      "outputs": [
        {
          "output_type": "stream",
          "name": "stdout",
          "text": [
            "30 30\n",
            "0.4923750160905882\n"
          ]
        }
      ]
    },
    {
      "cell_type": "code",
      "source": [
        "#1.12\n",
        "A = np.array([1.5, 2.5, 3.5])\n",
        "B = np.array([4, 5, 6])\n",
        "Z = np.dot(A,B)\n",
        "print(Z)"
      ],
      "metadata": {
        "colab": {
          "base_uri": "https://localhost:8080/"
        },
        "id": "h_3umx8TguTq",
        "outputId": "e52c8d64-bd5e-423d-c440-57e225d7dca7"
      },
      "execution_count": null,
      "outputs": [
        {
          "output_type": "stream",
          "name": "stdout",
          "text": [
            "39.5\n"
          ]
        }
      ]
    },
    {
      "cell_type": "code",
      "source": [
        "#1.13\n",
        "A = np.array([\n",
        " [1, 2, 3],\n",
        " [4, 5, 6]\n",
        "])\n",
        "B = np.array([\n",
        " [11.5],\n",
        " [12.5],\n",
        " [13.5]\n",
        "])\n",
        "try:\n",
        "    Z = np.dot(A, B)\n",
        "except ValueError:\n",
        "        Z= \"Упс! Что-то пошло не так...\"\n",
        "else:\n",
        "     Z = np.dot(A, B)\n",
        "#print(Z)"
      ],
      "metadata": {
        "id": "LN1_S3Gbh2Cb"
      },
      "execution_count": null,
      "outputs": []
    },
    {
      "cell_type": "code",
      "source": [
        "#1.14\n",
        "Z = np.arange(11)\n",
        "Z[(3<Z)&(Z<9)] *= -1\n",
        "print(Z)"
      ],
      "metadata": {
        "colab": {
          "base_uri": "https://localhost:8080/"
        },
        "id": "Rrx-vjgtkDLT",
        "outputId": "05940849-97bb-42c4-c01c-355459ba69f3"
      },
      "execution_count": null,
      "outputs": [
        {
          "output_type": "stream",
          "name": "stdout",
          "text": [
            "[ 0  1  2  3 -4 -5 -6 -7 -8  9 10]\n"
          ]
        }
      ]
    },
    {
      "cell_type": "code",
      "source": [
        "#1.15\n",
        "X = np.array([[1, 0, 1], [2, 0, 2], [3, 0, 3], [4, 4, 4]])\n",
        "Z = np.prod(np.diag(X)[np.diag(X)!=0] )\n",
        "print(Z)"
      ],
      "metadata": {
        "id": "DRzJrmef5Yvx",
        "colab": {
          "base_uri": "https://localhost:8080/"
        },
        "outputId": "66a15c78-708c-4911-8cdf-36368635cc7a"
      },
      "execution_count": null,
      "outputs": [
        {
          "output_type": "stream",
          "name": "stdout",
          "text": [
            "3\n"
          ]
        }
      ]
    },
    {
      "cell_type": "code",
      "source": [
        "#1.16\n",
        "n = float(input())\n",
        "Z = np.arange(0,n)*0\n",
        "print(Z)"
      ],
      "metadata": {
        "colab": {
          "base_uri": "https://localhost:8080/"
        },
        "id": "9lwjfcoxDKWW",
        "outputId": "3d1cc025-1e1e-425a-dbfd-78777322ec52"
      },
      "execution_count": null,
      "outputs": [
        {
          "output_type": "stream",
          "name": "stdout",
          "text": [
            "5\n",
            "[0. 0. 0. 0. 0.]\n"
          ]
        }
      ]
    },
    {
      "cell_type": "code",
      "source": [
        "#1.17\n",
        "Z = np.zeros((10,10))\n",
        "print(Z.itemsize*Z.size)"
      ],
      "metadata": {
        "colab": {
          "base_uri": "https://localhost:8080/"
        },
        "id": "KCc6zjN_Db4z",
        "outputId": "c69263e9-cc48-429c-d6d9-e8f462a2747e"
      },
      "execution_count": null,
      "outputs": [
        {
          "output_type": "stream",
          "name": "stdout",
          "text": [
            "800\n"
          ]
        }
      ]
    },
    {
      "cell_type": "code",
      "source": [
        "#1.19\n",
        "Z = np.array(range(int(input()), int(input()) + 1))"
      ],
      "metadata": {
        "id": "un1SlkKlFzhz",
        "colab": {
          "base_uri": "https://localhost:8080/"
        },
        "outputId": "84918bc3-4fbd-4060-a685-a4d912a13a17"
      },
      "execution_count": null,
      "outputs": [
        {
          "name": "stdout",
          "output_type": "stream",
          "text": [
            "10\n",
            "50\n"
          ]
        }
      ]
    },
    {
      "cell_type": "code",
      "source": [
        "#1.20\n",
        "Z = np.flip(Z, 0)\n",
        "print(Z)"
      ],
      "metadata": {
        "colab": {
          "base_uri": "https://localhost:8080/"
        },
        "id": "ZLQtNbbhiciH",
        "outputId": "2c7edde6-8240-41d8-a424-eb671ba2e62e"
      },
      "execution_count": null,
      "outputs": [
        {
          "output_type": "stream",
          "name": "stdout",
          "text": [
            "[10 11 12 13 14 15 16 17 18 19 20 21 22 23 24 25 26 27 28 29 30 31 32 33\n",
            " 34 35 36 37 38 39 40 41 42 43 44 45 46 47 48 49 50]\n"
          ]
        }
      ]
    },
    {
      "cell_type": "code",
      "source": [
        "#1.22\n",
        "Z = np.array([1,0,2,0,3,0,4])\n",
        "NonZerros = np.where(np.array(Z)>0)\n",
        "print(NonZerros)"
      ],
      "metadata": {
        "colab": {
          "base_uri": "https://localhost:8080/"
        },
        "id": "gtKliOGNi329",
        "outputId": "f24e0651-e7ad-4ed7-aaa3-7d2838defb6d"
      },
      "execution_count": 13,
      "outputs": [
        {
          "output_type": "stream",
          "name": "stdout",
          "text": [
            "(array([0, 2, 4, 6]),)\n"
          ]
        }
      ]
    },
    {
      "cell_type": "code",
      "source": [
        "#1.23\n",
        "n = int(input())\n",
        "\n",
        "Z = np.identity(n)\n",
        "#print(Z)"
      ],
      "metadata": {
        "colab": {
          "base_uri": "https://localhost:8080/"
        },
        "id": "I0QPWkDbjdSN",
        "outputId": "9b88ad78-6e3e-47ba-c82d-ed8953be87eb"
      },
      "execution_count": 14,
      "outputs": [
        {
          "name": "stdout",
          "output_type": "stream",
          "text": [
            "3\n"
          ]
        }
      ]
    },
    {
      "cell_type": "code",
      "source": [
        "#1.24\n",
        "np.random.seed(42)\n",
        "\n",
        "n, m, l, = map(int, input().split())\n",
        "\n",
        "Z = np.random.rand(n*m*l).reshape(n,m,l)\n",
        "#prin(Z)"
      ],
      "metadata": {
        "colab": {
          "base_uri": "https://localhost:8080/"
        },
        "id": "9A25gRejhxvy",
        "outputId": "269e8ebe-d473-42eb-df50-8b6338f64cc7"
      },
      "execution_count": 22,
      "outputs": [
        {
          "name": "stdout",
          "output_type": "stream",
          "text": [
            "2 2 2\n"
          ]
        }
      ]
    },
    {
      "cell_type": "code",
      "source": [
        "#1.25\n",
        "np.random.seed(42)\n",
        "n, m = input().split()\n",
        "Z = np.random.rand(int(n), int(m))\n",
        "print(np.min(Z))\n",
        "print(np.max(Z))"
      ],
      "metadata": {
        "colab": {
          "base_uri": "https://localhost:8080/"
        },
        "id": "VU4E1-0agTsp",
        "outputId": "2886d5f5-0bf0-4c69-d2d6-57c8d986cd65"
      },
      "execution_count": 21,
      "outputs": [
        {
          "output_type": "stream",
          "name": "stdout",
          "text": [
            "10 10\n",
            "0.005522117123602399\n",
            "0.9868869366005173\n"
          ]
        }
      ]
    },
    {
      "cell_type": "code",
      "source": [
        "import timeit\n",
        "start_time = timeit.default_timer()\n",
        "\n",
        "n = int(input())\n",
        "Z = np.zeros(n)\n",
        "print(Z)\n",
        "\n",
        "time_1 = timeit.default_timer() - start_time\n",
        "start_time = timeit.default_timer()\n",
        "\n",
        "n = float(input())\n",
        "Z = np.arange(0,n)*0\n",
        "print(Z)\n",
        "\n",
        "time_2 = timeit.default_timer() - start_time\n",
        "print('Первая функиця', time_1)\n",
        "print('Вторая функция', time_2)"
      ],
      "metadata": {
        "colab": {
          "base_uri": "https://localhost:8080/"
        },
        "id": "9G3qzptgPSRq",
        "outputId": "8417deef-5125-4489-96fb-b79faf949cd8"
      },
      "execution_count": 19,
      "outputs": [
        {
          "output_type": "stream",
          "name": "stdout",
          "text": [
            "5\n",
            "[0. 0. 0. 0. 0.]\n",
            "5\n",
            "[0. 0. 0. 0. 0.]\n",
            "Первая функиця 6.025417636999919\n",
            "Вторая функция 2.2950782400002936\n"
          ]
        }
      ]
    },
    {
      "cell_type": "code",
      "source": [
        "import timeit\n",
        "start_time = timeit.default_timer()\n",
        "n,m = map(int,input().split())\n",
        "\n",
        "np.random.seed(42)\n",
        "Z = np.random.random((n,m))\n",
        "Zmin, Zmax = Z.min(), Z.max()\n",
        "print(Zmin, Zmax)\n",
        "\n",
        "time_1 = timeit.default_timer() - start_time\n",
        "start_time = timeit.default_timer()\n",
        "\n",
        "np.random.seed(42)\n",
        "n, m = input().split()\n",
        "Z = np.random.rand(int(n), int(m))\n",
        "print(np.min(Z))\n",
        "print(np.max(Z))\n",
        "\n",
        "time_2 = timeit.default_timer() - start_time\n",
        "print('Первая функиця', time_1)\n",
        "print('Вторая функция', time_2)"
      ],
      "metadata": {
        "colab": {
          "base_uri": "https://localhost:8080/"
        },
        "id": "8SjukezAgC3a",
        "outputId": "4c9101e3-50ed-4e42-dc1f-b1fcbdf00c2b"
      },
      "execution_count": 20,
      "outputs": [
        {
          "output_type": "stream",
          "name": "stdout",
          "text": [
            "10 10\n",
            "0.005522117123602399 0.9868869366005173\n",
            "10 10\n",
            "0.005522117123602399\n",
            "0.9868869366005173\n",
            "Первая функиця 2.632569065000098\n",
            "Вторая функция 4.978213227999731\n"
          ]
        }
      ]
    }
  ]
}